{
 "cells": [
  {
   "cell_type": "code",
   "execution_count": 1,
   "metadata": {},
   "outputs": [],
   "source": [
    "import cv2\n",
    "import os\n",
    "import base64\n",
    "import requests\n",
    "import pickle\n",
    "import numpy as np\n",
    "\n",
    "from sklearn.tree import DecisionTreeClassifier\n",
    "from sklearn.metrics import confusion_matrix\n",
    "from sklearn.metrics import accuracy_score"
   ]
  },
  {
   "cell_type": "code",
   "execution_count": 2,
   "metadata": {},
   "outputs": [],
   "source": [
    "train_dir = r'Cars Dataset\\train'\n",
    "test_dir = r'Cars Dataset\\test'\n",
    "Dataset = r'Cars Dataset'"
   ]
  },
  {
   "cell_type": "code",
   "execution_count": 3,
   "metadata": {},
   "outputs": [],
   "source": [
    "url = \"http://localhost:8080/api/gethog\"\n",
    "\n",
    "# car brand name\n",
    "carBrandName = ['Audi', 'Hyundai Creta', 'Mahindra Scorpio', 'Rolls Royce','Swift', 'Tata Safari', 'Toyota Innova']\n",
    "\n",
    "def img2Hog(img):\n",
    "    v, buffer = cv2.imencode(\".jpg\", img)\n",
    "    img_str = base64.b64encode(buffer)\n",
    "    data = \"image data,\"+str.split(str(img_str),\"'\")[1]\n",
    "    response = requests.get(url, json={\"img\":data})\n",
    "    \n",
    "    return response.json()"
   ]
  },
  {
   "cell_type": "code",
   "execution_count": 4,
   "metadata": {},
   "outputs": [],
   "source": [
    "# Read data\n",
    "def readData(path):\n",
    "    response = []\n",
    "    amount = 0\n",
    "    for brandFile in os.listdir(path):\n",
    "        count = 0\n",
    "        for imgName in os.listdir(path + '/' + brandFile):\n",
    "            img_file_name = path + '/' + brandFile + \"/\" + imgName\n",
    "            img = cv2.imread(img_file_name)\n",
    "            res = img2Hog(img)\n",
    "            hog = list(res[\"hog\"])\n",
    "            hog.append(carBrandName.index(brandFile))\n",
    "            response.append(hog)\n",
    "            count = count + 1\n",
    "        print(str((brandFile))+ ': have \"'+str(count)+'\" cars.')\n",
    "        amount = amount + count\n",
    "    print(\"all amount : \",amount)\n",
    "    return response"
   ]
  },
  {
   "cell_type": "code",
   "execution_count": 5,
   "metadata": {},
   "outputs": [
    {
     "name": "stdout",
     "output_type": "stream",
     "text": [
      "Audi: have \"814\" cars.\n",
      "Hyundai Creta: have \"271\" cars.\n",
      "Mahindra Scorpio: have \"316\" cars.\n",
      "Rolls Royce: have \"311\" cars.\n",
      "Swift: have \"424\" cars.\n",
      "Tata Safari: have \"441\" cars.\n",
      "Toyota Innova: have \"775\" cars.\n",
      "all amount :  3352\n"
     ]
    }
   ],
   "source": [
    "listDataTrain = readData(train_dir)"
   ]
  },
  {
   "cell_type": "code",
   "execution_count": 6,
   "metadata": {},
   "outputs": [
    {
     "name": "stdout",
     "output_type": "stream",
     "text": [
      "Audi: have \"199\" cars.\n",
      "Hyundai Creta: have \"67\" cars.\n",
      "Mahindra Scorpio: have \"75\" cars.\n",
      "Rolls Royce: have \"74\" cars.\n",
      "Swift: have \"102\" cars.\n",
      "Tata Safari: have \"106\" cars.\n",
      "Toyota Innova: have \"190\" cars.\n",
      "all amount :  813\n"
     ]
    }
   ],
   "source": [
    "listDataTest = readData(test_dir)"
   ]
  },
  {
   "cell_type": "code",
   "execution_count": 7,
   "metadata": {},
   "outputs": [],
   "source": [
    "# save data to pkl\n",
    "def savePkl(filename ,path):\n",
    "    write_path = filename + \".pkl\"\n",
    "    pickle.dump(path, open(write_path,\"wb\"))\n",
    "    print(\"data preparation is done\")\n",
    "\n",
    "# load data to pkl   \n",
    "def loadPkl(filename):\n",
    "    dataset = pickle.load(open(filename + '.pkl','rb'))\n",
    "    return dataset"
   ]
  },
  {
   "cell_type": "code",
   "execution_count": 8,
   "metadata": {},
   "outputs": [
    {
     "name": "stdout",
     "output_type": "stream",
     "text": [
      "data preparation is done\n"
     ]
    }
   ],
   "source": [
    "# savePkl โดยใช้ path ของโฟลเดอร์ train\n",
    "savePkl('train_data',listDataTrain)"
   ]
  },
  {
   "cell_type": "code",
   "execution_count": 9,
   "metadata": {},
   "outputs": [
    {
     "name": "stdout",
     "output_type": "stream",
     "text": [
      "data preparation is done\n"
     ]
    }
   ],
   "source": [
    "# savePkl โดยใช้ path ของโฟลเดอร์ train\n",
    "savePkl('test_data',listDataTest)"
   ]
  },
  {
   "cell_type": "code",
   "execution_count": 10,
   "metadata": {},
   "outputs": [
    {
     "name": "stdout",
     "output_type": "stream",
     "text": [
      "Data train :  3352\n",
      "Data test :  813\n"
     ]
    }
   ],
   "source": [
    "# loadPkl โดยส่งชื่อ file ไป\n",
    "dataset_train = loadPkl('train_data')\n",
    "print(\"Data train : \",len(dataset_train))\n",
    "dataset_test = loadPkl('test_data')\n",
    "print(\"Data test : \",len(dataset_test))"
   ]
  },
  {
   "cell_type": "code",
   "execution_count": 11,
   "metadata": {},
   "outputs": [],
   "source": [
    "# convert list data train to array\n",
    "train_arr = np.array(dataset_train)\n",
    "x_train = train_arr[:,0:-1]\n",
    "y_train = train_arr[:,-1]"
   ]
  },
  {
   "cell_type": "code",
   "execution_count": 12,
   "metadata": {},
   "outputs": [],
   "source": [
    "# convert list data test to array\n",
    "test_arr = np.array(dataset_test)\n",
    "x_test = test_arr[:,0:-1]\n",
    "y_test = test_arr[:,-1]"
   ]
  },
  {
   "cell_type": "code",
   "execution_count": 13,
   "metadata": {},
   "outputs": [
    {
     "data": {
      "text/html": [
       "<style>#sk-container-id-1 {color: black;background-color: white;}#sk-container-id-1 pre{padding: 0;}#sk-container-id-1 div.sk-toggleable {background-color: white;}#sk-container-id-1 label.sk-toggleable__label {cursor: pointer;display: block;width: 100%;margin-bottom: 0;padding: 0.3em;box-sizing: border-box;text-align: center;}#sk-container-id-1 label.sk-toggleable__label-arrow:before {content: \"▸\";float: left;margin-right: 0.25em;color: #696969;}#sk-container-id-1 label.sk-toggleable__label-arrow:hover:before {color: black;}#sk-container-id-1 div.sk-estimator:hover label.sk-toggleable__label-arrow:before {color: black;}#sk-container-id-1 div.sk-toggleable__content {max-height: 0;max-width: 0;overflow: hidden;text-align: left;background-color: #f0f8ff;}#sk-container-id-1 div.sk-toggleable__content pre {margin: 0.2em;color: black;border-radius: 0.25em;background-color: #f0f8ff;}#sk-container-id-1 input.sk-toggleable__control:checked~div.sk-toggleable__content {max-height: 200px;max-width: 100%;overflow: auto;}#sk-container-id-1 input.sk-toggleable__control:checked~label.sk-toggleable__label-arrow:before {content: \"▾\";}#sk-container-id-1 div.sk-estimator input.sk-toggleable__control:checked~label.sk-toggleable__label {background-color: #d4ebff;}#sk-container-id-1 div.sk-label input.sk-toggleable__control:checked~label.sk-toggleable__label {background-color: #d4ebff;}#sk-container-id-1 input.sk-hidden--visually {border: 0;clip: rect(1px 1px 1px 1px);clip: rect(1px, 1px, 1px, 1px);height: 1px;margin: -1px;overflow: hidden;padding: 0;position: absolute;width: 1px;}#sk-container-id-1 div.sk-estimator {font-family: monospace;background-color: #f0f8ff;border: 1px dotted black;border-radius: 0.25em;box-sizing: border-box;margin-bottom: 0.5em;}#sk-container-id-1 div.sk-estimator:hover {background-color: #d4ebff;}#sk-container-id-1 div.sk-parallel-item::after {content: \"\";width: 100%;border-bottom: 1px solid gray;flex-grow: 1;}#sk-container-id-1 div.sk-label:hover label.sk-toggleable__label {background-color: #d4ebff;}#sk-container-id-1 div.sk-serial::before {content: \"\";position: absolute;border-left: 1px solid gray;box-sizing: border-box;top: 0;bottom: 0;left: 50%;z-index: 0;}#sk-container-id-1 div.sk-serial {display: flex;flex-direction: column;align-items: center;background-color: white;padding-right: 0.2em;padding-left: 0.2em;position: relative;}#sk-container-id-1 div.sk-item {position: relative;z-index: 1;}#sk-container-id-1 div.sk-parallel {display: flex;align-items: stretch;justify-content: center;background-color: white;position: relative;}#sk-container-id-1 div.sk-item::before, #sk-container-id-1 div.sk-parallel-item::before {content: \"\";position: absolute;border-left: 1px solid gray;box-sizing: border-box;top: 0;bottom: 0;left: 50%;z-index: -1;}#sk-container-id-1 div.sk-parallel-item {display: flex;flex-direction: column;z-index: 1;position: relative;background-color: white;}#sk-container-id-1 div.sk-parallel-item:first-child::after {align-self: flex-end;width: 50%;}#sk-container-id-1 div.sk-parallel-item:last-child::after {align-self: flex-start;width: 50%;}#sk-container-id-1 div.sk-parallel-item:only-child::after {width: 0;}#sk-container-id-1 div.sk-dashed-wrapped {border: 1px dashed gray;margin: 0 0.4em 0.5em 0.4em;box-sizing: border-box;padding-bottom: 0.4em;background-color: white;}#sk-container-id-1 div.sk-label label {font-family: monospace;font-weight: bold;display: inline-block;line-height: 1.2em;}#sk-container-id-1 div.sk-label-container {text-align: center;}#sk-container-id-1 div.sk-container {/* jupyter's `normalize.less` sets `[hidden] { display: none; }` but bootstrap.min.css set `[hidden] { display: none !important; }` so we also need the `!important` here to be able to override the default hidden behavior on the sphinx rendered scikit-learn.org. See: https://github.com/scikit-learn/scikit-learn/issues/21755 */display: inline-block !important;position: relative;}#sk-container-id-1 div.sk-text-repr-fallback {display: none;}</style><div id=\"sk-container-id-1\" class=\"sk-top-container\"><div class=\"sk-text-repr-fallback\"><pre>DecisionTreeClassifier()</pre><b>In a Jupyter environment, please rerun this cell to show the HTML representation or trust the notebook. <br />On GitHub, the HTML representation is unable to render, please try loading this page with nbviewer.org.</b></div><div class=\"sk-container\" hidden><div class=\"sk-item\"><div class=\"sk-estimator sk-toggleable\"><input class=\"sk-toggleable__control sk-hidden--visually\" id=\"sk-estimator-id-1\" type=\"checkbox\" checked><label for=\"sk-estimator-id-1\" class=\"sk-toggleable__label sk-toggleable__label-arrow\">DecisionTreeClassifier</label><div class=\"sk-toggleable__content\"><pre>DecisionTreeClassifier()</pre></div></div></div></div></div>"
      ],
      "text/plain": [
       "DecisionTreeClassifier()"
      ]
     },
     "execution_count": 13,
     "metadata": {},
     "output_type": "execute_result"
    }
   ],
   "source": [
    "# train data with Decision Tree\n",
    "clf = DecisionTreeClassifier()\n",
    "clf.fit(x_train,y_train)"
   ]
  },
  {
   "cell_type": "code",
   "execution_count": 14,
   "metadata": {},
   "outputs": [
    {
     "name": "stdout",
     "output_type": "stream",
     "text": [
      "Accuracy: 47.601476014760145\n",
      "Confusion Matrix : \n",
      " [[ 73  12  16  24  25  21  28]\n",
      " [ 10  38   6   4   0   3   6]\n",
      " [ 14   3  27   9   2   7  13]\n",
      " [ 24   4   9  12   2   8  15]\n",
      " [  9   9   8   6  50   4  16]\n",
      " [ 11   2   3  10   6  66   8]\n",
      " [ 19  13   6   7  13  11 121]]\n"
     ]
    }
   ],
   "source": [
    "# test efficiency data\n",
    "y_pred = clf.predict(x_test)\n",
    "print(\"Accuracy:\",accuracy_score(y_test, y_pred)*100)\n",
    "print(\"Confusion Matrix : \\n\",confusion_matrix(y_test,y_pred))"
   ]
  },
  {
   "cell_type": "code",
   "execution_count": 15,
   "metadata": {},
   "outputs": [],
   "source": [
    "# save model file with pickle\n",
    "path_model ='carbrandmodel.pkl'\n",
    "pickle.dump(clf, open(path_model,'wb'))"
   ]
  }
 ],
 "metadata": {
  "kernelspec": {
   "display_name": "env",
   "language": "python",
   "name": "python3"
  },
  "language_info": {
   "codemirror_mode": {
    "name": "ipython",
    "version": 3
   },
   "file_extension": ".py",
   "mimetype": "text/x-python",
   "name": "python",
   "nbconvert_exporter": "python",
   "pygments_lexer": "ipython3",
   "version": "3.10.5"
  },
  "orig_nbformat": 4
 },
 "nbformat": 4,
 "nbformat_minor": 2
}
